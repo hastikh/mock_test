{
 "cells": [
  {
   "cell_type": "markdown",
   "id": "382f2cbd",
   "metadata": {},
   "source": [
    "# Scaling Relations:"
   ]
  },
  {
   "cell_type": "code",
   "execution_count": 1,
   "id": "a550858f",
   "metadata": {},
   "outputs": [],
   "source": [
    "import matplotlib.pyplot as plt\n",
    "%matplotlib inline\n",
    "\n",
    "import numpy as np\n",
    "\n",
    "from astropy import units as u\n",
    "from astropy.cosmology import FlatLambdaCDM\n"
   ]
  },
  {
   "cell_type": "markdown",
   "id": "54145343",
   "metadata": {},
   "source": [
    "These public binary SMDPL-UM data can be downloaded from [Peter Behroozi's website](https://halos.as.arizona.edu/UniverseMachine/DR1/SMDPL_SFR/)"
   ]
  },
  {
   "cell_type": "code",
   "execution_count": 2,
   "id": "a4e9f699",
   "metadata": {},
   "outputs": [],
   "source": [
    "dtype = np.dtype(dtype=[('id', 'i8'),('descid','i8'),('upid','i8'),\n",
    "                        ('flags', 'i4'), ('uparent_dist', 'f4'),\n",
    "                        ('pos', 'f4', (6)), ('vmp', 'f4'), ('lvmp', 'f4'),\n",
    "                        ('mp', 'f4'), ('m', 'f4'), ('v', 'f4'), ('r', 'f4'),\n",
    "                        ('rank1', 'f4'), ('rank2', 'f4'), ('ra', 'f4'),\n",
    "                        ('rarank', 'f4'), ('A_UV', 'f4'), ('sm', 'f4'), \n",
    "                        ('icl', 'f4'), ('sfr', 'f4'), ('obs_sm', 'f4'), \n",
    "                        ('obs_sfr', 'f4'), ('obs_uv', 'f4'), ('empty', 'f4')],\n",
    "                 align=True)\n",
    "\n",
    "halos = np.fromfile('/Volumes/Hasti-2T-2/main/SMDPL/sfr_catalog_0.258000.bin', dtype=dtype)\n"
   ]
  },
  {
   "cell_type": "code",
   "execution_count": 3,
   "id": "77eb59eb",
   "metadata": {},
   "outputs": [],
   "source": [
    "sfr = halos[\"sfr\"] #[Msun/yr]\n",
    "pos = halos['pos'] #[comoving Mpc/h]"
   ]
  },
  {
   "cell_type": "code",
   "execution_count": 4,
   "id": "11679c4f",
   "metadata": {},
   "outputs": [],
   "source": [
    "# Intrinsic Luminosity for LAEs:\n",
    "L_int_Lya = 1.1e42 * sfr  #erg/s"
   ]
  },
  {
   "cell_type": "code",
   "execution_count": 5,
   "id": "5eb86b39",
   "metadata": {},
   "outputs": [],
   "source": [
    "# 1. Luminosity cut --> depends to the flux limit of the survey.\n",
    "# 2. Making sure the objects are inside the 400 [Mpc/h] cubic box. --> to make sure we have a cubic volume.\n",
    "\n",
    "mask = (L_int_Lya >= 10**(41)) & (pos[:,0] < 400) & (pos[:,0] > 0) & (pos[:,1] < 400) & (pos[:,1] > 0) & (pos[:,2] < 400) & (pos[:,2] > 0)\n"
   ]
  },
  {
   "cell_type": "code",
   "execution_count": 6,
   "id": "12c99371",
   "metadata": {},
   "outputs": [],
   "source": [
    "# Deleting the quantities that we don't need.\n",
    "del sfr, pos"
   ]
  },
  {
   "cell_type": "code",
   "execution_count": 7,
   "id": "c02386e1",
   "metadata": {},
   "outputs": [],
   "source": [
    "def rvir_to_galaxysize(redshift, r, sigma):\n",
    "    \"\"\"\n",
    "    Converts the halo virial radius to the galaxy size using Kravtsov (2012) relation for a fixed cosmology.\n",
    "    \n",
    "    Inputs:\n",
    "    -------\n",
    "    redshift\n",
    "    r --> halo virial radius (array: (shape=(N,)) --> [unit: comoving kpc/h]\n",
    "    sigma --> scatter\n",
    "    \n",
    "    Returns:\n",
    "    --------\n",
    "    guassian random values for galaxy size with the mean r_half=0.015*R_krav (from Kravtsov (2012)) and scatter of sigma dex\n",
    "    (array: (shape=(N,)) --> [unit: comoving kpc/h]\n",
    "       \n",
    "    \"\"\"\n",
    "    \n",
    "    # unit definition\n",
    "    cosmo = FlatLambdaCDM(H0=67.77, Om0=0.307115)\n",
    "    littleh = cosmo.H0.value/100.\n",
    "    kpcph = u.def_unit('kpcph', u.kpc/littleh) #[kpc/h]\n",
    "    \n",
    "    # Kravtsov (2012) relation\n",
    "    R_krav = (((r * kpcph).to(u.kpc)) / (1 + redshift)).value\n",
    "    r_half = R_krav * 0.015  \n",
    "    log_r_half = np.log10(R_krav) + np.log10(0.015)\n",
    "    \n",
    "    # generating Gaussian random\n",
    "    mu_r_half = log_r_half\n",
    "    sigma_r_half = np.random.normal(sigma, 0.01, len(r))\n",
    "    sample_r_half = np.random.normal(mu_r_half, sigma_r_half, len(r))\n",
    "    \n",
    "    return sample_r_half"
   ]
  },
  {
   "cell_type": "markdown",
   "id": "284775c5",
   "metadata": {},
   "source": [
    "**Esample:**"
   ]
  },
  {
   "cell_type": "code",
   "execution_count": 8,
   "id": "98df0f29",
   "metadata": {},
   "outputs": [
    {
     "name": "stdout",
     "output_type": "stream",
     "text": [
      "CPU times: user 338 ms, sys: 7.34 s, total: 7.68 s\n",
      "Wall time: 51.1 s\n"
     ]
    }
   ],
   "source": [
    "%%time\n",
    "a = 0.258000  #the scale factor is shown in the name of the data:  \"sfr_catalog_0.258000.bin\"\n",
    "redshift = (1/a) -1\n",
    "sigma = 0.2\n",
    "r = halos[\"r\"][mask] #[ckpc/h]\n",
    "\n",
    "sample_r_half_values = rvir_to_galaxysize(redshift, r, sigma)"
   ]
  },
  {
   "cell_type": "code",
   "execution_count": 9,
   "id": "9b44e296",
   "metadata": {},
   "outputs": [
    {
     "name": "stderr",
     "output_type": "stream",
     "text": [
      "No artists with labels found to put in legend.  Note that artists whose label start with an underscore are ignored when legend() is called with no argument.\n"
     ]
    },
    {
     "name": "stdout",
     "output_type": "stream",
     "text": [
      "CPU times: user 48.1 ms, sys: 23 ms, total: 71.2 ms\n",
      "Wall time: 297 ms\n"
     ]
    },
    {
     "data": {
      "text/plain": [
       "<matplotlib.legend.Legend at 0x127454d10>"
      ]
     },
     "execution_count": 9,
     "metadata": {},
     "output_type": "execute_result"
    },
    {
     "data": {
      "image/png": "[encoded data removed]",
      "text/plain": [
       "<Figure size 640x480 with 1 Axes>"
      ]
     },
     "metadata": {},
     "output_type": "display_data"
    }
   ],
   "source": [
    "%%time\n",
    "\n",
    "plt.hist(sample_r_half_values, bins=100, density=True, histtype='bar', ec='white', facecolor='C2', alpha=0.5)\n",
    "plt.ylabel(\"Probability\")\n",
    "plt.xlabel(r'$\\rm{log}\\,r_{\\rm{half}}\\,\\,[ckpc]$')\n",
    "plt.legend()"
   ]
  },
  {
   "cell_type": "code",
   "execution_count": 10,
   "id": "8b433431",
   "metadata": {},
   "outputs": [],
   "source": [
    "def ssfr_to_mcold(sm, sfr, sigma):\n",
    "    \"\"\"\n",
    "    Converts sSFR=SFR/M∗ (specific star formation rate) to mcold (cold gas mass) using Dave et al (2016) relation for a fixed cosmology.\n",
    "    \n",
    "    Note: make sure your SFR and SM arrays are not including zero values, if this is the case change them with a very small value loke 1e-15:\n",
    "    sfr[sfr==0] = 1e-15\n",
    "    sm[sm==0] = 1e-15\n",
    "    \n",
    "    Inputs:\n",
    "    -------\n",
    "    sm --> stellar mass (array: (shape=(N,)) --> [unit: Msun]\n",
    "    sfr --> star formation rate (array: (shape=(N,)) --> [unit: Msun/yr]\n",
    "    sigma --> scatter\n",
    "    \n",
    "    Returns:\n",
    "    --------\n",
    "    guassian random values for mcold with a scatter of sigma dex\n",
    "    (array: (shape=(N,)) --> [unit: Msun/h]\n",
    "       \n",
    "    \"\"\"\n",
    "    \n",
    "    # unit definition\n",
    "    cosmo = FlatLambdaCDM(H0=67.77, Om0=0.307115)\n",
    "    littleh = cosmo.H0.value/100.\n",
    "    Msunph = u.def_unit('Msunph', u.Msun/littleh) #[Msun/h]\n",
    "\n",
    "    \n",
    "    # Convert units to Msun/h and Msun/h/Gyr\n",
    "    sm_h = ((sm*u.Msun).to(Msunph)).value  #Msun/h\n",
    "    sfr_h_Gyr = ((sfr*u.Msun/u.yr).to(Msunph/u.Gyr)).value\n",
    "\n",
    "    \n",
    "    # Calculate log_M_cold\n",
    "    log_M_cold = (1/2) * np.log10(sfr_h_Gyr) + (1/2) * np.log10(sm_h) + 2\n",
    "    \n",
    "    # Generate Gaussian random values for sigma\n",
    "    sigma_M_cold = np.random.normal(sigma, 0.001, len(sfr))\n",
    "    \n",
    "    # Generate Gaussian random values for M_cold with the calculated mean and sigma\n",
    "    sample_M_cold = np.random.normal(log_M_cold, sigma_M_cold, len(sfr))\n",
    "    \n",
    "    \n",
    "    return sample_M_cold\n"
   ]
  },
  {
   "cell_type": "markdown",
   "id": "7f2b11d7",
   "metadata": {},
   "source": [
    "**Esample:**"
   ]
  },
  {
   "cell_type": "code",
   "execution_count": 11,
   "id": "fb1bacfa",
   "metadata": {},
   "outputs": [
    {
     "name": "stdout",
     "output_type": "stream",
     "text": [
      "CPU times: user 307 ms, sys: 1.9 s, total: 2.21 s\n",
      "Wall time: 4.78 s\n"
     ]
    }
   ],
   "source": [
    "%%time\n",
    "\n",
    "sfr = halos[\"sfr\"][mask] #[Msun/yr]\n",
    "sm = halos[\"sm\"][mask] #[Msun] \n",
    "\n",
    "# to avoid log(zero)\n",
    "sfr[sfr==0] = 1e-15\n",
    "sm[sm==0] = 1e-15\n"
   ]
  },
  {
   "cell_type": "code",
   "execution_count": 12,
   "id": "c3d902c5",
   "metadata": {},
   "outputs": [
    {
     "name": "stdout",
     "output_type": "stream",
     "text": [
      "CPU times: user 160 ms, sys: 35.3 ms, total: 195 ms\n",
      "Wall time: 274 ms\n"
     ]
    }
   ],
   "source": [
    "%%time\n",
    "sigma =0.01\n",
    "\n",
    "sample_M_cold_values = ssfr_to_mcold(sm, sfr, sigma)"
   ]
  },
  {
   "cell_type": "code",
   "execution_count": 13,
   "id": "31d660bf",
   "metadata": {},
   "outputs": [
    {
     "name": "stderr",
     "output_type": "stream",
     "text": [
      "No artists with labels found to put in legend.  Note that artists whose label start with an underscore are ignored when legend() is called with no argument.\n"
     ]
    },
    {
     "name": "stdout",
     "output_type": "stream",
     "text": [
      "CPU times: user 72.6 ms, sys: 20.3 ms, total: 92.9 ms\n",
      "Wall time: 101 ms\n"
     ]
    },
    {
     "data": {
      "text/plain": [
       "<matplotlib.legend.Legend at 0x1168d5550>"
      ]
     },
     "execution_count": 13,
     "metadata": {},
     "output_type": "execute_result"
    },
    {
     "data": {
      "image/png": "[encoded data removed]",
      "text/plain": [
       "<Figure size 640x480 with 1 Axes>"
      ]
     },
     "metadata": {},
     "output_type": "display_data"
    }
   ],
   "source": [
    "%%time\n",
    "plt.hist(sample_M_cold_values, bins=100, density = True, histtype='bar', ec='white', facecolor='C2', alpha=0.5)\n",
    "\n",
    "plt.ylabel(\"PDF\")\n",
    "plt.xlabel(r'$\\rm{log}\\,M_{\\rm{cold}}\\,\\,[M_{\\odot}h^{-1}]$')\n",
    "plt.legend()\n"
   ]
  },
  {
   "cell_type": "code",
   "execution_count": 14,
   "id": "ab44a46b",
   "metadata": {},
   "outputs": [],
   "source": [
    "def sm_to_zcold(sm, sigma):\n",
    "    \"\"\"\n",
    "    Converts M∗ (stellar mass) to zcold (metallicity of the cold gas) using Guo et al (2016) relation for a fixed cosmology.\n",
    "    \n",
    "    Note: make sure your SM array ia not including zero values, if this is the case change them with a very small value loke 1e-15:\n",
    "    sm[sm==0] = 1e-15\n",
    "    \n",
    "    Inputs:\n",
    "    -------\n",
    "    sm --> stellar mass (array: (shape=(N,)) --> [unit: Msun]\n",
    "    sigma --> scatter\n",
    "    \n",
    "    Returns:\n",
    "    --------\n",
    "    guassian random values for zcold with a scatter of sigma dex\n",
    "    (array: (shape=(N,)) --> [unit: Msun/h]\n",
    "       \n",
    "    \"\"\"\n",
    "    # From Guo et al 2016:\n",
    "    Z_cold = 1e-12*(sm)**(0.067) \n",
    "    log_z_cold_in_z_sun_unit = -12 + 0.97*np.log10(sm) + 1.7\n",
    "    \n",
    "    # Generate Gaussian random values\n",
    "    mu_log_z_cold = log_z_cold_in_z_sun_unit\n",
    "    sigma_Z_cold = np.random.normal(sigma,0.01,len(sfr))  # generating guassian random values for sigma with the mean 0.1\n",
    "    sample_Z_cold = np.random.normal(mu_log_z_cold, sigma_Z_cold, len(sm)) # generating guassian random values for r_half with the mean r_half=0.015*R_krav and sigma\n",
    "\n",
    "    \n",
    "    return sample_Z_cold\n"
   ]
  },
  {
   "cell_type": "markdown",
   "id": "dade1757",
   "metadata": {},
   "source": [
    "**Esample:**"
   ]
  },
  {
   "cell_type": "code",
   "execution_count": 15,
   "id": "6fc9f9b5",
   "metadata": {},
   "outputs": [
    {
     "name": "stdout",
     "output_type": "stream",
     "text": [
      "CPU times: user 168 ms, sys: 27.4 ms, total: 196 ms\n",
      "Wall time: 206 ms\n"
     ]
    }
   ],
   "source": [
    "%%time\n",
    "sigma =0.1\n",
    "\n",
    "sample_Z_cold_values = sm_to_zcold(sm, sigma)"
   ]
  },
  {
   "cell_type": "code",
   "execution_count": 16,
   "id": "636d2f76",
   "metadata": {},
   "outputs": [
    {
     "name": "stderr",
     "output_type": "stream",
     "text": [
      "No artists with labels found to put in legend.  Note that artists whose label start with an underscore are ignored when legend() is called with no argument.\n"
     ]
    },
    {
     "name": "stdout",
     "output_type": "stream",
     "text": [
      "CPU times: user 68.6 ms, sys: 7.78 ms, total: 76.4 ms\n",
      "Wall time: 75.9 ms\n"
     ]
    },
    {
     "data": {
      "text/plain": [
       "<matplotlib.legend.Legend at 0x116a1f090>"
      ]
     },
     "execution_count": 16,
     "metadata": {},
     "output_type": "execute_result"
    },
    {
     "data": {
      "image/png": "[encoded data removed]",
      "text/plain": [
       "<Figure size 640x480 with 1 Axes>"
      ]
     },
     "metadata": {},
     "output_type": "display_data"
    }
   ],
   "source": [
    "%%time\n",
    "plt.hist(sample_Z_cold_values, bins=100, density = True, histtype='bar', ec='white', facecolor='C2', alpha=0.5)\n",
    "\n",
    "\n",
    "plt.ylabel(\"PDF\")\n",
    "plt.xlabel(r'$\\rm{log}\\,Z_{\\rm{cold}}\\,\\,[Z_{\\odot}]$')\n",
    "plt.legend()"
   ]
  },
  {
   "cell_type": "code",
   "execution_count": 17,
   "id": "379d65ce",
   "metadata": {},
   "outputs": [],
   "source": [
    "# creating a new catalog containing new scaling relations:"
   ]
  },
  {
   "cell_type": "code",
   "execution_count": 18,
   "id": "ac587ef3",
   "metadata": {},
   "outputs": [],
   "source": [
    "dtype_new = np.dtype(dtype=[('id', 'i8'),('descid','i8'),('upid','i8'),\n",
    "                        ('flags', 'i4'), ('uparent_dist', 'f4'),\n",
    "                        ('pos', 'f4', (6)), ('vmp', 'f4'), ('lvmp', 'f4'),\n",
    "                        ('mp', 'f4'), ('m', 'f4'), ('v', 'f4'), ('r', 'f4'),\n",
    "                        ('rank1', 'f4'), ('rank2', 'f4'), ('ra', 'f4'),\n",
    "                        ('rarank', 'f4'), ('A_UV', 'f4'), ('sm', 'f4'), \n",
    "                        ('icl', 'f4'), ('sfr', 'f4'), ('obs_sm', 'f4'), \n",
    "                        ('obs_sfr', 'f4'), ('obs_uv', 'f4'), \n",
    "                        ('size', 'f4'), ('mcold', 'f4'), ('zcold', 'f4'), ('empty', 'f4')],\n",
    "                 align=True)\n"
   ]
  },
  {
   "cell_type": "code",
   "execution_count": 19,
   "id": "78f88dab",
   "metadata": {},
   "outputs": [
    {
     "name": "stdout",
     "output_type": "stream",
     "text": [
      "CPU times: user 3.22 s, sys: 3.3 s, total: 6.52 s\n",
      "Wall time: 11.2 s\n"
     ]
    }
   ],
   "source": [
    "%%time\n",
    "\n",
    "# Create a structured array using the dtypes above\n",
    "data = np.empty(len(sample_r_half_values), dtype=dtype_new)\n",
    "\n",
    "# Assign values to the structured array fields\n",
    "data[\"id\"] = halos[\"id\"][mask]\n",
    "data[\"descid\"] = halos[\"descid\"][mask]\n",
    "data[\"upid\"] = halos[\"upid\"][mask]\n",
    "data[\"flags\"] = halos[\"flags\"][mask]\n",
    "data[\"uparent_dist\"] = halos[\"uparent_dist\"][mask]\n",
    "data[\"pos\"] = halos[\"pos\"][mask]\n",
    "data[\"vmp\"] = halos[\"vmp\"][mask]\n",
    "data[\"lvmp\"] = halos[\"lvmp\"][mask]\n",
    "data[\"mp\"] = halos[\"mp\"][mask]\n",
    "data[\"m\"] = halos[\"m\"][mask]\n",
    "data[\"v\"] = halos[\"v\"][mask]\n",
    "data[\"r\"] = halos[\"r\"][mask]\n",
    "data[\"rank1\"] = halos[\"rank1\"][mask]\n",
    "data[\"rank2\"] = halos[\"rank2\"][mask]\n",
    "data[\"ra\"] = halos[\"ra\"][mask]\n",
    "data[\"rarank\"] = halos[\"rarank\"][mask]\n",
    "data[\"A_UV\"] = halos[\"A_UV\"][mask]\n",
    "data[\"sm\"] = halos[\"sm\"][mask]\n",
    "data[\"icl\"] = halos[\"icl\"][mask]\n",
    "data[\"sfr\"] = halos[\"sfr\"][mask]\n",
    "data[\"obs_sm\"] = halos[\"obs_sm\"][mask]\n",
    "data[\"obs_sfr\"] = halos[\"obs_sfr\"][mask]\n",
    "data[\"obs_uv\"] = halos[\"obs_uv\"][mask]\n",
    "data[\"size\"] = sample_r_half_values\n",
    "data[\"mcold\"] = sample_M_cold_values\n",
    "data[\"zcold\"] = sample_Z_cold_values\n",
    "data[\"empty\"] = halos[\"empty\"][mask]\n",
    "\n",
    "# Save the structured array as a .npy file\n",
    "np.save(\"sfr_catalog_0.258000_w_scaling_relations_masked_L41_pos400.npy\", data)\n",
    "\n"
   ]
  },
  {
   "cell_type": "code",
   "execution_count": null,
   "id": "7a928dfc",
   "metadata": {},
   "outputs": [],
   "source": []
  }
 ],
 "metadata": {
  "kernelspec": {
   "display_name": "Python 3 (ipykernel)",
   "language": "python",
   "name": "python3"
  },
  "language_info": {
   "codemirror_mode": {
    "name": "ipython",
    "version": 3
   },
   "file_extension": ".py",
   "mimetype": "text/x-python",
   "name": "python",
   "nbconvert_exporter": "python",
   "pygments_lexer": "ipython3",
   "version": "3.11.6"
  }
 },
 "nbformat": 4,
 "nbformat_minor": 5
}
